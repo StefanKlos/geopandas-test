{
 "cells": [
  {
   "cell_type": "code",
   "execution_count": null,
   "metadata": {
    "scrolled": true
   },
   "outputs": [],
   "source": [
    "import numpy as np\n",
    "import pandas as pd\n",
    "#from IPython.display import display\n",
    "\n",
    "#import seaborn as sns\n",
    "\n",
    "import matplotlib.pyplot as plt\n",
    "%matplotlib inline\n",
    "\n",
    "#import folium\n",
    "#import folium.plugins\n",
    "#import geopy\n",
    "import geopandas\n",
    "#import pygeocoder as geo"
   ]
  },
  {
   "cell_type": "code",
   "execution_count": null,
   "metadata": {},
   "outputs": [],
   "source": [
    "bp17 = pd.read_csv('Building_Permits_in_2017.csv')"
   ]
  },
  {
   "cell_type": "code",
   "execution_count": null,
   "metadata": {},
   "outputs": [],
   "source": [
    "bp17.columns"
   ]
  },
  {
   "cell_type": "code",
   "execution_count": null,
   "metadata": {},
   "outputs": [],
   "source": [
    "pd.options.display.max_columns = 50"
   ]
  },
  {
   "cell_type": "code",
   "execution_count": null,
   "metadata": {},
   "outputs": [],
   "source": [
    "bp17.head()"
   ]
  },
  {
   "cell_type": "code",
   "execution_count": null,
   "metadata": {},
   "outputs": [],
   "source": [
    "x = pd.to_datetime(bp17['ISSUE_DATE'])\n",
    "y = pd.to_datetime(bp17['LASTMODIFIEDDATE'])\n",
    "bp17['TIMEDIF'] = (y-x).dt.days"
   ]
  },
  {
   "cell_type": "code",
   "execution_count": null,
   "metadata": {},
   "outputs": [],
   "source": [
    "bp17.groupby('WARD')['TIMEDIF'].mean()"
   ]
  },
  {
   "cell_type": "code",
   "execution_count": null,
   "metadata": {},
   "outputs": [],
   "source": [
    "pattern = r'[^0-9]'\n",
    "bp17['SSLn'] = bp17['SSL'].str.replace(pattern, '')"
   ]
  },
  {
   "cell_type": "code",
   "execution_count": null,
   "metadata": {},
   "outputs": [],
   "source": [
    "bp17['SSLn'].value_counts().head(10)"
   ]
  },
  {
   "cell_type": "code",
   "execution_count": null,
   "metadata": {},
   "outputs": [],
   "source": [
    "bp17['Y'].value_counts().head(10)"
   ]
  },
  {
   "cell_type": "code",
   "execution_count": null,
   "metadata": {},
   "outputs": [],
   "source": [
    "len(bp17)\n",
    "len(bp17.groupby('SSLn').count())"
   ]
  },
  {
   "cell_type": "code",
   "execution_count": null,
   "metadata": {},
   "outputs": [],
   "source": [
    "by_stype = bp17.groupby(['PERMIT_TYPE_NAME', 'PERMIT_SUBTYPE_NAME'])['OBJECTID'].count()\n",
    "by_type = bp17.groupby('PERMIT_TYPE_NAME')['OBJECTID'].count()\n",
    "by_type/len(bp17)*100"
   ]
  },
  {
   "cell_type": "code",
   "execution_count": null,
   "metadata": {},
   "outputs": [],
   "source": [
    "sns.barplot(by_type.index, by_type)\n",
    "plt.title('Permits filed by type, 2017')\n",
    "plt.xlabel('number of permits filed')\n",
    "plt.ylabel('category of permit')\n",
    "plt.xticks(rotation=45);"
   ]
  },
  {
   "cell_type": "code",
   "execution_count": null,
   "metadata": {
    "scrolled": true
   },
   "outputs": [],
   "source": [
    "g = bp17.groupby('PERMIT_TYPE_NAME')['FEES_PAID'].median()"
   ]
  },
  {
   "cell_type": "code",
   "execution_count": null,
   "metadata": {},
   "outputs": [],
   "source": [
    "sns.barplot(g.index, g)\n",
    "plt.xticks(rotation=45)\n",
    "plt.title('Median fee paid by permit type')\n",
    "plt.ylabel('cost of permit ($)')\n",
    "plt.xlabel('type of permit');"
   ]
  },
  {
   "cell_type": "code",
   "execution_count": null,
   "metadata": {
    "scrolled": true
   },
   "outputs": [],
   "source": [
    "bp17.groupby('APPLICATION_STATUS_NAME')['OBJECTID'].count()"
   ]
  },
  {
   "cell_type": "code",
   "execution_count": null,
   "metadata": {},
   "outputs": [],
   "source": [
    "bp17['ISSUED'] = (bp17['APPLICATION_STATUS_NAME']=='PERMIT ISSUED')*1\n",
    "bp17['DENIED'] = (bp17['APPLICATION_STATUS_NAME'].isin(['APPLICATION CANCELED', 'PERMIT CANCELED', 'PERMIT CANCELED REFUND', 'PERMIT REVOKED']))*1"
   ]
  },
  {
   "cell_type": "code",
   "execution_count": null,
   "metadata": {},
   "outputs": [],
   "source": [
    "len(bp17[bp17['APPLICATION_STATUS_NAME']=='ISSUED'].groupby('WARD').count()['OBJECTID'])"
   ]
  },
  {
   "cell_type": "code",
   "execution_count": null,
   "metadata": {},
   "outputs": [],
   "source": [
    "ward_count = bp17[bp17['APPLICATION_STATUS_NAME']=='PERMIT ISSUED'].groupby('WARD').count()['OBJECTID']/len(bp17[bp17['APPLICATION_STATUS_NAME']=='PERMIT ISSUED'])*100\n",
    "pop_ward = np.array([76197, 79915, 77152, 75773, 74308, 76598, 71068, 70712])\n",
    "white = np.array([36864, 57317, 64447, 18601, 12259, 38047, 1291, 2645])\n",
    "black =  np.array([24794, 10079, 3860, 44459, 56489, 31842, 67471, 66131])\n",
    "non_white = pop_ward - white\n",
    "t = pd.DataFrame({'Permits Issued': ward_count,\n",
    "                  'Population': pop_ward/sum(pop_ward)*100,\n",
    "                  'Non-White Population': non_white/sum(non_white)*100,\n",
    "                  'Ward': ward_count.index})\n",
    "p = pd.melt(t.drop('Non-White Population', axis=1), id_vars='Ward')\n",
    "q = pd.melt(t.drop('Population',axis=1), id_vars='Ward')"
   ]
  },
  {
   "cell_type": "code",
   "execution_count": null,
   "metadata": {
    "scrolled": true
   },
   "outputs": [],
   "source": [
    "sns.barplot(ward_count.index, ward_count)\n",
    "plt.title('Permits issued by Ward')\n",
    "plt.ylabel('% total');"
   ]
  },
  {
   "cell_type": "code",
   "execution_count": null,
   "metadata": {},
   "outputs": [],
   "source": [
    "iss = bp17.groupby('WARD')['DENIED'].mean()*100\n",
    "sns.barplot(iss.index, iss)\n",
    "plt.title('Percentage of Permits denied');"
   ]
  },
  {
   "cell_type": "code",
   "execution_count": null,
   "metadata": {
    "scrolled": true
   },
   "outputs": [],
   "source": [
    "sns.barplot(x='Ward', y='value', hue='variable', data=p)\n",
    "plt.title('Permits issued by Ward and Population')\n",
    "plt.ylabel('% total')\n",
    "plt.legend(bbox_to_anchor=(1.05, 1), loc=2, borderaxespad=0.);"
   ]
  },
  {
   "cell_type": "code",
   "execution_count": null,
   "metadata": {},
   "outputs": [],
   "source": [
    "sns.barplot(x='Ward', y='value', hue='variable', data=q)\n",
    "plt.title('Permits issued by Ward and White Population')\n",
    "plt.ylabel('% total')\n",
    "plt.legend(bbox_to_anchor=(1.05, 1), loc=2, borderaxespad=0.);"
   ]
  },
  {
   "cell_type": "code",
   "execution_count": null,
   "metadata": {
    "scrolled": true
   },
   "outputs": [],
   "source": [
    "bp17.groupby('WARD')['SSLn'].count().unique()"
   ]
  },
  {
   "cell_type": "code",
   "execution_count": null,
   "metadata": {
    "scrolled": false
   },
   "outputs": [],
   "source": [
    "x = np.array([1,2,3,4,5,6,7,8])\n",
    "ar = [np.mean(bp17[bp17['WARD']==i].groupby('SSLn')['OBJECTID'].count()) for i in range(1,9)]\n",
    "sns.barplot(x, ar)\n",
    "plt.title('Average number of permits processed per business by ward (min=1)');"
   ]
  },
  {
   "cell_type": "code",
   "execution_count": null,
   "metadata": {
    "scrolled": true
   },
   "outputs": [],
   "source": [
    "by_ssl1 = bp17.groupby('SSLn').count()\n",
    "by_ssl2 = bp17.groupby('SSLn').first()\n",
    "by_ssl = pd.DataFrame({'SSLn': by_ssl1.index,\n",
    "                       'Permit num': by_ssl1['OBJECTID'],\n",
    "                       'Ward': by_ssl2['WARD']})\n",
    "\n",
    "sns.boxplot(x='Ward', y='Permit num', data=by_ssl)"
   ]
  },
  {
   "cell_type": "code",
   "execution_count": null,
   "metadata": {
    "scrolled": false
   },
   "outputs": [],
   "source": [
    "sns.distplot(bp17.groupby('SSLn')['OBJECTID'].count(), bins=94)\n",
    "plt.title('Frequency distribution - number of permits processed per business')\n",
    "plt.xlabel('Number of permits filed')\n",
    "plt.xlim((0,15));"
   ]
  },
  {
   "cell_type": "code",
   "execution_count": null,
   "metadata": {},
   "outputs": [],
   "source": [
    "n  = bp17.groupby('SSLn')['OBJECTID'].count()\n",
    "len(n[n>9])"
   ]
  },
  {
   "cell_type": "markdown",
   "metadata": {},
   "source": [
    "# MAPPING"
   ]
  },
  {
   "cell_type": "code",
   "execution_count": null,
   "metadata": {},
   "outputs": [],
   "source": []
  },
  {
   "cell_type": "code",
   "execution_count": null,
   "metadata": {},
   "outputs": [],
   "source": [
    "dc_coord = (38.9108795, -77.0350123)\n",
    "m = folium.Map(location=dc_coord, zoom_start=11.5)\n",
    "m "
   ]
  },
  {
   "cell_type": "code",
   "execution_count": null,
   "metadata": {
    "scrolled": true
   },
   "outputs": [],
   "source": [
    "counts = bp17.groupby(['﻿X', 'Y'])['OBJECTID'].count()\n"
   ]
  },
  {
   "cell_type": "code",
   "execution_count": null,
   "metadata": {},
   "outputs": [],
   "source": [
    "by_ssl[by_ssl['Permit num']==2].head(10)"
   ]
  },
  {
   "cell_type": "code",
   "execution_count": null,
   "metadata": {},
   "outputs": [],
   "source": [
    "bp17[bp17['SSLn']=='00162004']"
   ]
  },
  {
   "cell_type": "code",
   "execution_count": null,
   "metadata": {},
   "outputs": [],
   "source": []
  }
 ],
 "metadata": {
  "anaconda-cloud": {},
  "kernelspec": {
   "display_name": "Python [default]",
   "language": "python",
   "name": "python3"
  },
  "language_info": {
   "codemirror_mode": {
    "name": "ipython",
    "version": 3
   },
   "file_extension": ".py",
   "mimetype": "text/x-python",
   "name": "python",
   "nbconvert_exporter": "python",
   "pygments_lexer": "ipython3",
   "version": "3.5.6"
  }
 },
 "nbformat": 4,
 "nbformat_minor": 1
}
